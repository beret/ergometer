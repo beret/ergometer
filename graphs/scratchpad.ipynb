{
 "cells": [
  {
   "cell_type": "code",
   "execution_count": 47,
   "metadata": {},
   "outputs": [],
   "source": [
    "import numpy as np\n",
    "import pandas as pd\n",
    "import matplotlib.pyplot as plt\n",
    "import random\n",
    "\n",
    "%matplotlib inline"
   ]
  },
  {
   "cell_type": "code",
   "execution_count": 18,
   "metadata": {},
   "outputs": [],
   "source": [
    "# I don't understand why I can't do something like\n",
    "# from ..cache_updater import ActivityEdge"
   ]
  },
  {
   "cell_type": "code",
   "execution_count": 35,
   "metadata": {},
   "outputs": [],
   "source": [
    "# redefining the Edge class for fast prototyping \n",
    "\n",
    "class SimpleEdge():\n",
    "    def __init__(self, time, rising):\n",
    "        self.time = time  #Integer\n",
    "        self.rising = rising  #Boolean\n",
    "\n",
    "    def __eq__(self, other):\n",
    "        return (\n",
    "            isinstance(other, SimpleEdge)\n",
    "            and self.time == other.time\n",
    "            and self.rising == other.rising\n",
    "        )\n",
    "\n",
    "    def __repr__(self):\n",
    "        arrow = \"⬈\" if self.rising else \"⬊\"\n",
    "        return f\"<SimpleEdge {self.time} {arrow}>\"\n",
    "    \n",
    "    # Adding a to_dict method for convenient conversion to pandas\n",
    "    def to_dict(self):\n",
    "        return {\n",
    "            \"time\": self.time,\n",
    "            \"rising\": self.rising\n",
    "        }\n",
    "        "
   ]
  },
  {
   "cell_type": "code",
   "execution_count": 36,
   "metadata": {},
   "outputs": [],
   "source": [
    "# make a small dataset to graph\n",
    "random.seed(0)\n",
    "rand_seq = sorted([random.randint(0, 1000) for _ in range(10)])"
   ]
  },
  {
   "cell_type": "code",
   "execution_count": 37,
   "metadata": {},
   "outputs": [],
   "source": [
    "# make a small dataset to graph\n",
    "sample_edges = [\n",
    "    SimpleEdge(t, True) if i%2 == 0 \n",
    "    else SimpleEdge(t, False) \n",
    "    for i, t in enumerate(rand_seq)\n",
    "]"
   ]
  },
  {
   "cell_type": "code",
   "execution_count": 38,
   "metadata": {},
   "outputs": [
    {
     "data": {
      "text/plain": [
       "[<SimpleEdge 41 ⬈>,\n",
       " <SimpleEdge 265 ⬊>,\n",
       " <SimpleEdge 394 ⬈>,\n",
       " <SimpleEdge 430 ⬊>,\n",
       " <SimpleEdge 497 ⬈>,\n",
       " <SimpleEdge 523 ⬊>,\n",
       " <SimpleEdge 776 ⬈>,\n",
       " <SimpleEdge 864 ⬊>,\n",
       " <SimpleEdge 911 ⬈>,\n",
       " <SimpleEdge 988 ⬊>]"
      ]
     },
     "execution_count": 38,
     "metadata": {},
     "output_type": "execute_result"
    }
   ],
   "source": [
    "sample_edges"
   ]
  },
  {
   "cell_type": "code",
   "execution_count": 40,
   "metadata": {},
   "outputs": [],
   "source": [
    "# assuming a list of Edge objects is how we'll get the data \n",
    "# to generate analytics\n",
    "# convert a list of SimpleEdges to a pandas dataframe\n",
    "\n",
    "sample_edges_df = pd.DataFrame.from_records([edge.to_dict() for edge in sample_edges])"
   ]
  },
  {
   "cell_type": "code",
   "execution_count": 41,
   "metadata": {},
   "outputs": [
    {
     "data": {
      "text/html": [
       "<div>\n",
       "<style scoped>\n",
       "    .dataframe tbody tr th:only-of-type {\n",
       "        vertical-align: middle;\n",
       "    }\n",
       "\n",
       "    .dataframe tbody tr th {\n",
       "        vertical-align: top;\n",
       "    }\n",
       "\n",
       "    .dataframe thead th {\n",
       "        text-align: right;\n",
       "    }\n",
       "</style>\n",
       "<table border=\"1\" class=\"dataframe\">\n",
       "  <thead>\n",
       "    <tr style=\"text-align: right;\">\n",
       "      <th></th>\n",
       "      <th>time</th>\n",
       "      <th>rising</th>\n",
       "    </tr>\n",
       "  </thead>\n",
       "  <tbody>\n",
       "    <tr>\n",
       "      <th>0</th>\n",
       "      <td>41</td>\n",
       "      <td>True</td>\n",
       "    </tr>\n",
       "    <tr>\n",
       "      <th>1</th>\n",
       "      <td>265</td>\n",
       "      <td>False</td>\n",
       "    </tr>\n",
       "    <tr>\n",
       "      <th>2</th>\n",
       "      <td>394</td>\n",
       "      <td>True</td>\n",
       "    </tr>\n",
       "    <tr>\n",
       "      <th>3</th>\n",
       "      <td>430</td>\n",
       "      <td>False</td>\n",
       "    </tr>\n",
       "    <tr>\n",
       "      <th>4</th>\n",
       "      <td>497</td>\n",
       "      <td>True</td>\n",
       "    </tr>\n",
       "    <tr>\n",
       "      <th>5</th>\n",
       "      <td>523</td>\n",
       "      <td>False</td>\n",
       "    </tr>\n",
       "    <tr>\n",
       "      <th>6</th>\n",
       "      <td>776</td>\n",
       "      <td>True</td>\n",
       "    </tr>\n",
       "    <tr>\n",
       "      <th>7</th>\n",
       "      <td>864</td>\n",
       "      <td>False</td>\n",
       "    </tr>\n",
       "    <tr>\n",
       "      <th>8</th>\n",
       "      <td>911</td>\n",
       "      <td>True</td>\n",
       "    </tr>\n",
       "    <tr>\n",
       "      <th>9</th>\n",
       "      <td>988</td>\n",
       "      <td>False</td>\n",
       "    </tr>\n",
       "  </tbody>\n",
       "</table>\n",
       "</div>"
      ],
      "text/plain": [
       "   time  rising\n",
       "0    41    True\n",
       "1   265   False\n",
       "2   394    True\n",
       "3   430   False\n",
       "4   497    True\n",
       "5   523   False\n",
       "6   776    True\n",
       "7   864   False\n",
       "8   911    True\n",
       "9   988   False"
      ]
     },
     "execution_count": 41,
     "metadata": {},
     "output_type": "execute_result"
    }
   ],
   "source": [
    "sample_edges_df"
   ]
  },
  {
   "cell_type": "code",
   "execution_count": 44,
   "metadata": {},
   "outputs": [
    {
     "data": {
      "image/png": "[encoded data removed]",
      "text/plain": [
       "<Figure size 432x288 with 1 Axes>"
      ]
     },
     "metadata": {
      "needs_background": "light"
     },
     "output_type": "display_data"
    }
   ],
   "source": [
    "# Let's graph this!\n",
    "\n",
    "plt.step(sample_edges_df.time, sample_edges_df.rising)\n",
    "plt.show()"
   ]
  },
  {
   "cell_type": "markdown",
   "metadata": {},
   "source": [
    "Hmm... Seems like we want to revert the boolean in the `rising` column. When `rising` is true it's being read as 1, which is the opposite of what we want"
   ]
  },
  {
   "cell_type": "code",
   "execution_count": 49,
   "metadata": {},
   "outputs": [
    {
     "data": {
      "image/png": "[encoded data removed]",
      "text/plain": [
       "<Figure size 432x288 with 1 Axes>"
      ]
     },
     "metadata": {
      "needs_background": "light"
     },
     "output_type": "display_data"
    }
   ],
   "source": [
    "plt.step(sample_edges_df.time, ~np.array(sample_edges_df.rising))\n",
    "plt.show()"
   ]
  },
  {
   "cell_type": "code",
   "execution_count": 50,
   "metadata": {},
   "outputs": [],
   "source": [
    "# TODO:\n",
    "# - consider 0 and max_time\n",
    "# - dimensions of the graph\n",
    "# - in reality we don't have timestamps from 1 to 1000, we have unix\n",
    "# timestamps, which have much larger absolute values. How does that \n",
    "# affect the graphs?\n",
    "# Enhancement: highlighting time intervals that exceed session_target?"
   ]
  },
  {
   "cell_type": "code",
   "execution_count": null,
   "metadata": {},
   "outputs": [],
   "source": []
  }
 ],
 "metadata": {
  "kernelspec": {
   "display_name": "Python 3",
   "language": "python",
   "name": "python3"
  },
  "language_info": {
   "codemirror_mode": {
    "name": "ipython",
    "version": 3
   },
   "file_extension": ".py",
   "mimetype": "text/x-python",
   "name": "python",
   "nbconvert_exporter": "python",
   "pygments_lexer": "ipython3",
   "version": "3.7.5"
  }
 },
 "nbformat": 4,
 "nbformat_minor": 4
}
